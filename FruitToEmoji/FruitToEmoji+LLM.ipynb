{
  "cells": [
    {
      "cell_type": "markdown",
      "metadata": {
        "colab_type": "text",
        "id": "f92-4Hjy7kA8"
      },
      "source": [
        "<a href=\"https://www.arduino.cc/\"><img src=\"https://raw.githubusercontent.com/sandeepmistry/aimldevfest-workshop-2019/master/images/Arduino_logo_R_highquality.png\" width=200/></a>\n",
        "\n",
        "# Tiny ML on Arduino\n",
        "\n",
        "## Classify objects by color tutorial\n",
        "\n",
        "https://github.com/arduino/ArduinoTensorFlowLiteTutorials/\n"
      ]
    },
    {
      "cell_type": "markdown",
      "metadata": {
        "colab_type": "text",
        "id": "uvDA8AK7QOq-"
      },
      "source": [
        "## Setup Python Environment\n",
        "\n",
        "The next cell sets up the dependencies in required for the notebook, run it.\n"
      ]
    },
    {
      "cell_type": "code",
      "execution_count": 27,
      "metadata": {
        "colab": {},
        "colab_type": "code",
        "id": "Y2gs-PL4xDkZ"
      },
      "outputs": [
        {
          "name": "stdout",
          "output_type": "stream",
          "text": [
            "E: Could not open lock file /var/lib/dpkg/lock-frontend - open (13: Permission denied)\n",
            "E: Unable to acquire the dpkg frontend lock (/var/lib/dpkg/lock-frontend), are you root?\n",
            "Requirement already satisfied: pandas in /home/han/anaconda3/envs/datasci2/lib/python3.10/site-packages (2.2.2)\n",
            "Requirement already satisfied: numpy in /home/han/anaconda3/envs/datasci2/lib/python3.10/site-packages (1.26.4)\n",
            "Requirement already satisfied: matplotlib in /home/han/anaconda3/envs/datasci2/lib/python3.10/site-packages (3.9.1)\n",
            "Requirement already satisfied: python-dateutil>=2.8.2 in /home/han/anaconda3/envs/datasci2/lib/python3.10/site-packages (from pandas) (2.9.0.post0)\n",
            "Requirement already satisfied: pytz>=2020.1 in /home/han/anaconda3/envs/datasci2/lib/python3.10/site-packages (from pandas) (2024.1)\n",
            "Requirement already satisfied: tzdata>=2022.7 in /home/han/anaconda3/envs/datasci2/lib/python3.10/site-packages (from pandas) (2024.1)\n",
            "Requirement already satisfied: contourpy>=1.0.1 in /home/han/anaconda3/envs/datasci2/lib/python3.10/site-packages (from matplotlib) (1.2.1)\n",
            "Requirement already satisfied: cycler>=0.10 in /home/han/anaconda3/envs/datasci2/lib/python3.10/site-packages (from matplotlib) (0.12.1)\n",
            "Requirement already satisfied: fonttools>=4.22.0 in /home/han/anaconda3/envs/datasci2/lib/python3.10/site-packages (from matplotlib) (4.53.0)\n",
            "Requirement already satisfied: kiwisolver>=1.3.1 in /home/han/anaconda3/envs/datasci2/lib/python3.10/site-packages (from matplotlib) (1.4.5)\n",
            "Requirement already satisfied: packaging>=20.0 in /home/han/anaconda3/envs/datasci2/lib/python3.10/site-packages (from matplotlib) (24.1)\n",
            "Requirement already satisfied: pillow>=8 in /home/han/anaconda3/envs/datasci2/lib/python3.10/site-packages (from matplotlib) (10.4.0)\n",
            "Requirement already satisfied: pyparsing>=2.3.1 in /home/han/anaconda3/envs/datasci2/lib/python3.10/site-packages (from matplotlib) (3.1.2)\n",
            "Requirement already satisfied: six>=1.5 in /home/han/anaconda3/envs/datasci2/lib/python3.10/site-packages (from python-dateutil>=2.8.2->pandas) (1.16.0)\n",
            "Requirement already satisfied: tensorflow in /home/han/anaconda3/envs/datasci2/lib/python3.10/site-packages (2.15.0)\n",
            "Requirement already satisfied: absl-py>=1.0.0 in /home/han/anaconda3/envs/datasci2/lib/python3.10/site-packages (from tensorflow) (2.1.0)\n",
            "Requirement already satisfied: astunparse>=1.6.0 in /home/han/anaconda3/envs/datasci2/lib/python3.10/site-packages (from tensorflow) (1.6.3)\n",
            "Requirement already satisfied: flatbuffers>=23.5.26 in /home/han/anaconda3/envs/datasci2/lib/python3.10/site-packages (from tensorflow) (24.3.25)\n",
            "Requirement already satisfied: gast!=0.5.0,!=0.5.1,!=0.5.2,>=0.2.1 in /home/han/anaconda3/envs/datasci2/lib/python3.10/site-packages (from tensorflow) (0.6.0)\n",
            "Requirement already satisfied: google-pasta>=0.1.1 in /home/han/anaconda3/envs/datasci2/lib/python3.10/site-packages (from tensorflow) (0.2.0)\n",
            "Requirement already satisfied: h5py>=2.9.0 in /home/han/anaconda3/envs/datasci2/lib/python3.10/site-packages (from tensorflow) (3.11.0)\n",
            "Requirement already satisfied: libclang>=13.0.0 in /home/han/anaconda3/envs/datasci2/lib/python3.10/site-packages (from tensorflow) (18.1.1)\n",
            "Requirement already satisfied: ml-dtypes~=0.2.0 in /home/han/anaconda3/envs/datasci2/lib/python3.10/site-packages (from tensorflow) (0.2.0)\n",
            "Requirement already satisfied: numpy<2.0.0,>=1.23.5 in /home/han/anaconda3/envs/datasci2/lib/python3.10/site-packages (from tensorflow) (1.26.4)\n",
            "Requirement already satisfied: opt-einsum>=2.3.2 in /home/han/anaconda3/envs/datasci2/lib/python3.10/site-packages (from tensorflow) (3.3.0)\n",
            "Requirement already satisfied: packaging in /home/han/anaconda3/envs/datasci2/lib/python3.10/site-packages (from tensorflow) (24.1)\n",
            "Requirement already satisfied: protobuf!=4.21.0,!=4.21.1,!=4.21.2,!=4.21.3,!=4.21.4,!=4.21.5,<5.0.0dev,>=3.20.3 in /home/han/anaconda3/envs/datasci2/lib/python3.10/site-packages (from tensorflow) (3.20.3)\n",
            "Requirement already satisfied: setuptools in /home/han/anaconda3/envs/datasci2/lib/python3.10/site-packages (from tensorflow) (70.1.1)\n",
            "Requirement already satisfied: six>=1.12.0 in /home/han/anaconda3/envs/datasci2/lib/python3.10/site-packages (from tensorflow) (1.16.0)\n",
            "Requirement already satisfied: termcolor>=1.1.0 in /home/han/anaconda3/envs/datasci2/lib/python3.10/site-packages (from tensorflow) (2.4.0)\n",
            "Requirement already satisfied: typing-extensions>=3.6.6 in /home/han/anaconda3/envs/datasci2/lib/python3.10/site-packages (from tensorflow) (4.12.2)\n",
            "Requirement already satisfied: wrapt<1.15,>=1.11.0 in /home/han/anaconda3/envs/datasci2/lib/python3.10/site-packages (from tensorflow) (1.14.1)\n",
            "Requirement already satisfied: tensorflow-io-gcs-filesystem>=0.23.1 in /home/han/anaconda3/envs/datasci2/lib/python3.10/site-packages (from tensorflow) (0.37.0)\n",
            "Requirement already satisfied: grpcio<2.0,>=1.24.3 in /home/han/anaconda3/envs/datasci2/lib/python3.10/site-packages (from tensorflow) (1.64.1)\n",
            "Requirement already satisfied: tensorboard<2.16,>=2.15 in /home/han/anaconda3/envs/datasci2/lib/python3.10/site-packages (from tensorflow) (2.15.2)\n",
            "Requirement already satisfied: tensorflow-estimator<2.16,>=2.15.0 in /home/han/anaconda3/envs/datasci2/lib/python3.10/site-packages (from tensorflow) (2.15.0)\n",
            "Requirement already satisfied: keras<2.16,>=2.15.0 in /home/han/anaconda3/envs/datasci2/lib/python3.10/site-packages (from tensorflow) (2.15.0)\n",
            "Requirement already satisfied: wheel<1.0,>=0.23.0 in /home/han/anaconda3/envs/datasci2/lib/python3.10/site-packages (from astunparse>=1.6.0->tensorflow) (0.43.0)\n",
            "Requirement already satisfied: google-auth<3,>=1.6.3 in /home/han/anaconda3/envs/datasci2/lib/python3.10/site-packages (from tensorboard<2.16,>=2.15->tensorflow) (2.31.0)\n",
            "Requirement already satisfied: google-auth-oauthlib<2,>=0.5 in /home/han/anaconda3/envs/datasci2/lib/python3.10/site-packages (from tensorboard<2.16,>=2.15->tensorflow) (1.2.0)\n",
            "Requirement already satisfied: markdown>=2.6.8 in /home/han/anaconda3/envs/datasci2/lib/python3.10/site-packages (from tensorboard<2.16,>=2.15->tensorflow) (3.6)\n",
            "Requirement already satisfied: requests<3,>=2.21.0 in /home/han/anaconda3/envs/datasci2/lib/python3.10/site-packages (from tensorboard<2.16,>=2.15->tensorflow) (2.32.3)\n",
            "Requirement already satisfied: tensorboard-data-server<0.8.0,>=0.7.0 in /home/han/anaconda3/envs/datasci2/lib/python3.10/site-packages (from tensorboard<2.16,>=2.15->tensorflow) (0.7.2)\n",
            "Requirement already satisfied: werkzeug>=1.0.1 in /home/han/anaconda3/envs/datasci2/lib/python3.10/site-packages (from tensorboard<2.16,>=2.15->tensorflow) (3.0.3)\n",
            "Requirement already satisfied: cachetools<6.0,>=2.0.0 in /home/han/anaconda3/envs/datasci2/lib/python3.10/site-packages (from google-auth<3,>=1.6.3->tensorboard<2.16,>=2.15->tensorflow) (5.3.3)\n",
            "Requirement already satisfied: pyasn1-modules>=0.2.1 in /home/han/anaconda3/envs/datasci2/lib/python3.10/site-packages (from google-auth<3,>=1.6.3->tensorboard<2.16,>=2.15->tensorflow) (0.4.0)\n",
            "Requirement already satisfied: rsa<5,>=3.1.4 in /home/han/anaconda3/envs/datasci2/lib/python3.10/site-packages (from google-auth<3,>=1.6.3->tensorboard<2.16,>=2.15->tensorflow) (4.9)\n",
            "Requirement already satisfied: requests-oauthlib>=0.7.0 in /home/han/anaconda3/envs/datasci2/lib/python3.10/site-packages (from google-auth-oauthlib<2,>=0.5->tensorboard<2.16,>=2.15->tensorflow) (1.3.1)\n",
            "Requirement already satisfied: charset-normalizer<4,>=2 in /home/han/anaconda3/envs/datasci2/lib/python3.10/site-packages (from requests<3,>=2.21.0->tensorboard<2.16,>=2.15->tensorflow) (3.3.2)\n",
            "Requirement already satisfied: idna<4,>=2.5 in /home/han/anaconda3/envs/datasci2/lib/python3.10/site-packages (from requests<3,>=2.21.0->tensorboard<2.16,>=2.15->tensorflow) (3.7)\n",
            "Requirement already satisfied: urllib3<3,>=1.21.1 in /home/han/anaconda3/envs/datasci2/lib/python3.10/site-packages (from requests<3,>=2.21.0->tensorboard<2.16,>=2.15->tensorflow) (2.0.7)\n",
            "Requirement already satisfied: certifi>=2017.4.17 in /home/han/anaconda3/envs/datasci2/lib/python3.10/site-packages (from requests<3,>=2.21.0->tensorboard<2.16,>=2.15->tensorflow) (2024.7.4)\n",
            "Requirement already satisfied: MarkupSafe>=2.1.1 in /home/han/anaconda3/envs/datasci2/lib/python3.10/site-packages (from werkzeug>=1.0.1->tensorboard<2.16,>=2.15->tensorflow) (2.1.5)\n",
            "Requirement already satisfied: pyasn1<0.7.0,>=0.4.6 in /home/han/anaconda3/envs/datasci2/lib/python3.10/site-packages (from pyasn1-modules>=0.2.1->google-auth<3,>=1.6.3->tensorboard<2.16,>=2.15->tensorflow) (0.6.0)\n",
            "Requirement already satisfied: oauthlib>=3.0.0 in /home/han/anaconda3/envs/datasci2/lib/python3.10/site-packages (from requests-oauthlib>=0.7.0->google-auth-oauthlib<2,>=0.5->tensorboard<2.16,>=2.15->tensorflow) (3.2.2)\n"
          ]
        }
      ],
      "source": [
        "# Setup environment\n",
        "!apt-get -qq install xxd\n",
        "!pip install pandas numpy matplotlib\n",
        "!pip install tensorflow"
      ]
    },
    {
      "cell_type": "markdown",
      "metadata": {
        "colab_type": "text",
        "id": "9lwkeshJk7dg"
      },
      "source": [
        "# Upload Data\n",
        "\n",
        "1. Open the panel on the left side of Colab by clicking on the **>**\n",
        "1. Select the Files tab\n",
        "1. Drag `csv` files from your computer to the tab to upload them into colab.\n"
      ]
    },
    {
      "cell_type": "markdown",
      "metadata": {
        "colab_type": "text",
        "id": "kSxUeYPNQbOg"
      },
      "source": [
        "# Train Neural Network\n"
      ]
    },
    {
      "cell_type": "markdown",
      "metadata": {
        "colab_type": "text",
        "id": "Gxk414PU3oy3"
      },
      "source": [
        "## Parse and prepare the data\n",
        "\n",
        "The next cell parses the csv files and transforms them to a format that will be used to train the full connected neural network.\n"
      ]
    },
    {
      "cell_type": "code",
      "execution_count": 28,
      "metadata": {
        "colab": {},
        "colab_type": "code",
        "id": "AGChd1FAk5_j"
      },
      "outputs": [
        {
          "name": "stdout",
          "output_type": "stream",
          "text": [
            "TensorFlow version = 2.15.0\n",
            "\n",
            "\u001b[32;4mapple\u001b[0m class will be output \u001b[32m0\u001b[0m of the classifier\n",
            "71 samples captured for training with inputs ['Red', 'Green', 'Blue'] \n",
            "\n"
          ]
        },
        {
          "data": {
            "image/png": "[encoded data removed]",
            "text/plain": [
              "<Figure size 1000x100 with 1 Axes>"
            ]
          },
          "metadata": {},
          "output_type": "display_data"
        },
        {
          "name": "stdout",
          "output_type": "stream",
          "text": [
            "\u001b[32;4mbanana\u001b[0m class will be output \u001b[32m1\u001b[0m of the classifier\n",
            "94 samples captured for training with inputs ['Red', 'Green', 'Blue'] \n",
            "\n"
          ]
        },
        {
          "data": {
            "image/png": "[encoded data removed]",
            "text/plain": [
              "<Figure size 1000x100 with 1 Axes>"
            ]
          },
          "metadata": {},
          "output_type": "display_data"
        },
        {
          "name": "stdout",
          "output_type": "stream",
          "text": [
            "\u001b[32;4morange\u001b[0m class will be output \u001b[32m2\u001b[0m of the classifier\n",
            "91 samples captured for training with inputs ['Red', 'Green', 'Blue'] \n",
            "\n"
          ]
        },
        {
          "data": {
            "image/png": "[encoded data removed]",
            "text/plain": [
              "<Figure size 1000x100 with 1 Axes>"
            ]
          },
          "metadata": {},
          "output_type": "display_data"
        },
        {
          "name": "stdout",
          "output_type": "stream",
          "text": [
            "Data set parsing and preparation complete.\n",
            "Data set randomization and splitting complete.\n"
          ]
        }
      ],
      "source": [
        "import matplotlib.pyplot as plt\n",
        "import numpy as np\n",
        "import pandas as pd\n",
        "import tensorflow as tf\n",
        "import os\n",
        "import fileinput\n",
        "from tensorflow.keras.models import Sequential\n",
        "import seaborn as sns\n",
        "from sklearn.metrics import classification_report, confusion_matrix\n",
        "\n",
        "print(f\"TensorFlow version = {tf.__version__}\\n\")\n",
        "DATASET_PATH=\"/home/han/Projects/ArduinoTensorFlowLiteTutorials/FruitToEmoji/data/SampleData/\"\n",
        "OG_MODEL_PATH=\"/home/han/Projects/ArduinoTensorFlowLiteTutorials/FruitToEmoji/models/og_model\"\n",
        "\n",
        "# Set a fixed random seed value, for reproducibility, this will allow us to get\n",
        "# the same random numbers each time the notebook is run\n",
        "SEED = 1337\n",
        "np.random.seed(SEED)\n",
        "tf.random.set_seed(SEED)\n",
        "\n",
        "CLASSES = [];\n",
        "\n",
        "for file in os.listdir(DATASET_PATH):\n",
        "    if file.endswith(\".csv\"):\n",
        "        CLASSES.append(os.path.splitext(file)[0])\n",
        "\n",
        "CLASSES.sort()\n",
        "\n",
        "SAMPLES_WINDOW_LEN = 1\n",
        "NUM_CLASSES = len(CLASSES)\n",
        "\n",
        "# create a one-hot encoded matrix that is used in the output\n",
        "ONE_HOT_ENCODED_CLASSES = np.eye(NUM_CLASSES)\n",
        "\n",
        "inputs = []\n",
        "outputs = []\n",
        "\n",
        "# read each csv file and push an input and output\n",
        "for class_index in range(NUM_CLASSES):\n",
        "  objectClass = CLASSES[class_index]\n",
        "  df = pd.read_csv(DATASET_PATH + objectClass + \".csv\")\n",
        "  columns = list(df)\n",
        "  # get rid of pesky empty value lines of csv which cause NaN inputs to TensorFlow\n",
        "  df = df.dropna()\n",
        "  df = df.reset_index(drop=True)\n",
        "\n",
        "  # calculate the number of objectClass recordings in the file\n",
        "  num_recordings = int(df.shape[0] / SAMPLES_WINDOW_LEN)\n",
        "  print(f\"\\u001b[32;4m{objectClass}\\u001b[0m class will be output \\u001b[32m{class_index}\\u001b[0m of the classifier\")\n",
        "  print(f\"{num_recordings} samples captured for training with inputs {list(df)} \\n\")\n",
        "\n",
        "  # graphing\n",
        "  plt.rcParams[\"figure.figsize\"] = (10,1)\n",
        "  pixels = np.array([df['Red'],df['Green'],df['Blue']],float)\n",
        "  pixels = np.transpose(pixels)\n",
        "  for i in range(num_recordings):\n",
        "    plt.axvline(x=i, linewidth=8, color=tuple(pixels[i]/np.max(pixels[i], axis=0)))\n",
        "  plt.show()\n",
        "\n",
        "  #tensors\n",
        "  output = ONE_HOT_ENCODED_CLASSES[class_index]\n",
        "  for i in range(num_recordings):\n",
        "    tensor = []\n",
        "    row = []\n",
        "    for c in columns:\n",
        "      row.append(df[c][i])\n",
        "    tensor += row\n",
        "    inputs.append(tensor)\n",
        "    outputs.append(output)\n",
        "\n",
        "# convert the list to numpy array\n",
        "inputs = np.array(inputs)\n",
        "outputs = np.array(outputs)\n",
        "\n",
        "print(\"Data set parsing and preparation complete.\")\n",
        "\n",
        "# Randomize the order of the inputs, so they can be evenly distributed for training, testing, and validation\n",
        "# https://stackoverflow.com/a/37710486/2020087\n",
        "num_inputs = len(inputs)\n",
        "randomize = np.arange(num_inputs)\n",
        "np.random.shuffle(randomize)\n",
        "\n",
        "# Swap the consecutive indexes (0, 1, 2, etc) with the randomized indexes\n",
        "inputs = inputs[randomize]\n",
        "outputs = outputs[randomize]\n",
        "\n",
        "# Split the recordings (group of samples) into three sets: training, testing and validation\n",
        "TRAIN_SPLIT = int(0.6 * num_inputs)\n",
        "TEST_SPLIT = int(0.2 * num_inputs + TRAIN_SPLIT)\n",
        "\n",
        "inputs_train, inputs_test, inputs_validate = np.split(inputs, [TRAIN_SPLIT, TEST_SPLIT])\n",
        "outputs_train, outputs_test, outputs_validate = np.split(outputs, [TRAIN_SPLIT, TEST_SPLIT])\n",
        "\n",
        "print(\"Data set randomization and splitting complete.\")\n"
      ]
    },
    {
      "cell_type": "code",
      "execution_count": null,
      "metadata": {},
      "outputs": [],
      "source": [
        "\n",
        "PROCESSED_DATASET_PATH=\"/home/han/Projects/ArduinoTensorFlowLiteTutorials/FruitToEmoji/data/processed_dataset\"\n",
        "# Define the paths to save the datasets\n",
        "TRAIN_INPUTS_PATH = os.path.join(PROCESSED_DATASET_PATH, \"inputs_train.npy\")\n",
        "TRAIN_OUTPUTS_PATH = os.path.join(PROCESSED_DATASET_PATH, \"outputs_train.npy\")\n",
        "TEST_INPUTS_PATH = os.path.join(PROCESSED_DATASET_PATH, \"inputs_test.npy\")\n",
        "TEST_OUTPUTS_PATH = os.path.join(PROCESSED_DATASET_PATH, \"outputs_test.npy\")\n",
        "VALIDATE_INPUTS_PATH = os.path.join(PROCESSED_DATASET_PATH, \"inputs_validate.npy\")\n",
        "VALIDATE_OUTPUTS_PATH = os.path.join(PROCESSED_DATASET_PATH, \"outputs_validate.npy\")\n",
        "\n",
        "# Save the datasets\n",
        "np.save(TRAIN_INPUTS_PATH, inputs_train)\n",
        "np.save(TRAIN_OUTPUTS_PATH, outputs_train)\n",
        "np.save(TEST_INPUTS_PATH, inputs_test)\n",
        "np.save(TEST_OUTPUTS_PATH, outputs_test)\n",
        "np.save(VALIDATE_INPUTS_PATH, inputs_validate)\n",
        "np.save(VALIDATE_OUTPUTS_PATH, outputs_validate)\n",
        "\n",
        "print(\"Datasets have been saved successfully.\")"
      ]
    },
    {
      "cell_type": "markdown",
      "metadata": {
        "colab_type": "text",
        "id": "v8qlSAX1b6Yv"
      },
      "source": [
        "## Build & Train the Model\n",
        "\n",
        "Build and train a [TensorFlow](https://www.tensorflow.org) model using the high-level [Keras](https://www.tensorflow.org/guide/keras) API.\n"
      ]
    },
    {
      "cell_type": "code",
      "execution_count": 29,
      "metadata": {
        "colab": {},
        "colab_type": "code",
        "id": "kGNFa-lX24Qo"
      },
      "outputs": [],
      "source": [
        "# build the model and train it\n",
        "model = tf.keras.Sequential()\n",
        "model.add(tf.keras.layers.Dense(8, activation='relu')) # relu is used for performance\n",
        "model.add(tf.keras.layers.Dense(5, activation='relu'))\n",
        "model.add(tf.keras.layers.Dense(NUM_CLASSES, activation='softmax')) # softmax is used, because we only expect one class to occur per input\n",
        "# model.compile(optimizer='rmsprop', loss='mse', metrics=['mae'])\n",
        "# history = model.fit(inputs_train, outputs_train, epochs=400, batch_size=4, validation_data=(inputs_validate, outputs_validate))\n"
      ]
    },
    {
      "cell_type": "code",
      "execution_count": 30,
      "metadata": {},
      "outputs": [],
      "source": [
        "\n",
        "\n",
        "OG_MODEL_PATH=\"/home/han/Projects/ArduinoTensorFlowLiteTutorials/FruitToEmoji/models/og_model/\"\n",
        "# model.save(OG_MODEL_PATH + \"model.keras\")\n",
        "\n",
        "model = tf.keras.models.load_model(OG_MODEL_PATH + \"model.keras\")"
      ]
    },
    {
      "cell_type": "markdown",
      "metadata": {
        "colab_type": "text",
        "id": "guMjtfa42ahM"
      },
      "source": [
        "### Run with Test Data\n",
        "\n",
        "Put our test data into the model and plot the predictions\n"
      ]
    },
    {
      "cell_type": "code",
      "execution_count": 31,
      "metadata": {
        "colab": {},
        "colab_type": "code",
        "id": "V3Y0CCWJz2EK"
      },
      "outputs": [
        {
          "name": "stdout",
          "output_type": "stream",
          "text": [
            "2/2 [==============================] - 0s 3ms/step\n",
            "Model accuracy is 100.0000% (Number of test samples = 51)\n"
          ]
        },
        {
          "data": {
            "image/png": "[encoded data removed]",
            "text/plain": [
              "<Figure size 1000x100 with 1 Axes>"
            ]
          },
          "metadata": {},
          "output_type": "display_data"
        },
        {
          "name": "stdout",
          "output_type": "stream",
          "text": [
            "              precision    recall  f1-score   support\n",
            "\n",
            "       apple       1.00      1.00      1.00        11\n",
            "      banana       1.00      1.00      1.00        17\n",
            "      orange       1.00      1.00      1.00        23\n",
            "\n",
            "    accuracy                           1.00        51\n",
            "   macro avg       1.00      1.00      1.00        51\n",
            "weighted avg       1.00      1.00      1.00        51\n",
            "\n"
          ]
        },
        {
          "data": {
            "image/png": "[encoded data removed]",
            "text/plain": [
              "<Figure size 640x480 with 2 Axes>"
            ]
          },
          "metadata": {},
          "output_type": "display_data"
        }
      ],
      "source": [
        "# use the model to predict the test inputs\n",
        "predictions = model.predict(inputs_test)\n",
        "pred = np.argmax(np.round(predictions, decimals=3), axis=1)\n",
        "actu = np.argmax(outputs_test, axis=1)\n",
        "# print the predictions and the expected ouputs\n",
        "# print(\"predictions =\\n\", np.round(predictions, decimals=3))\n",
        "# print(\"predictions =\\n\", np.round(predictions, decimals=3))\n",
        "# print(\"actual =\\n\", outputs_test)\n",
        "\n",
        "# print(\"actual =\\n\", outputs_test)\n",
        "\n",
        "accuracy=(np.sum(actu==pred)*100)/len(inputs_test)\n",
        "print(f'Model accuracy is {accuracy:.4f}% (Number of test samples = {len(inputs_test)})')\n",
        "#  98.0392%,\n",
        "\n",
        "# Plot the predictions along with to the test data\n",
        "plt.clf()\n",
        "plt.title(\"Training data predicted vs actual values\")\n",
        "plt.plot(inputs_test, outputs_test, \"b.\", label=\"Actual\")\n",
        "plt.plot(inputs_test, predictions, \"r.\", label=\"Predicted\")\n",
        "plt.show()\n",
        "\n",
        "print(classification_report(actu, pred, target_names=CLASSES))\n",
        "\n",
        "conf_arr = confusion_matrix(actu, pred)\n",
        "\n",
        "plt.figure(figsize=(8, 6), dpi=80, facecolor=\"w\", edgecolor=\"k\")\n",
        "\n",
        "ax = sns.heatmap(\n",
        "    conf_arr,\n",
        "    cmap=\"Greens\",\n",
        "    annot=True,\n",
        "    fmt=\"d\",\n",
        "    xticklabels=CLASSES,\n",
        "    yticklabels=CLASSES,\n",
        ")\n",
        "\n",
        "plt.title(\"Fruitssssss\")\n",
        "plt.xlabel(\"Prediction\")\n",
        "plt.ylabel(\"Truth\")\n",
        "plt.show(ax)"
      ]
    },
    {
      "cell_type": "markdown",
      "metadata": {
        "colab_type": "text",
        "id": "j7DO6xxXVCym"
      },
      "source": [
        "# Convert the Trained Model to Tensor Flow Lite\n",
        "\n",
        "The next cell converts the model to TFlite format. The size in bytes of the model is also printed out.\n"
      ]
    },
    {
      "cell_type": "code",
      "execution_count": 32,
      "metadata": {
        "colab": {},
        "colab_type": "code",
        "id": "0Xn1-Rn9Cp_8"
      },
      "outputs": [
        {
          "name": "stdout",
          "output_type": "stream",
          "text": [
            "INFO:tensorflow:Assets written to: /tmp/tmp_qq7amn1/assets\n"
          ]
        },
        {
          "name": "stderr",
          "output_type": "stream",
          "text": [
            "INFO:tensorflow:Assets written to: /tmp/tmp_qq7amn1/assets\n",
            "2024-07-08 12:27:49.450275: W tensorflow/compiler/mlir/lite/python/tf_tfl_flatbuffer_helpers.cc:378] Ignored output_format.\n",
            "2024-07-08 12:27:49.450386: W tensorflow/compiler/mlir/lite/python/tf_tfl_flatbuffer_helpers.cc:381] Ignored drop_control_dependency.\n"
          ]
        },
        {
          "name": "stdout",
          "output_type": "stream",
          "text": [
            "Model is 2528 bytes\n"
          ]
        },
        {
          "name": "stderr",
          "output_type": "stream",
          "text": [
            "2024-07-08 12:27:49.450622: I tensorflow/cc/saved_model/reader.cc:83] Reading SavedModel from: /tmp/tmp_qq7amn1\n",
            "2024-07-08 12:27:49.451235: I tensorflow/cc/saved_model/reader.cc:51] Reading meta graph with tags { serve }\n",
            "2024-07-08 12:27:49.451247: I tensorflow/cc/saved_model/reader.cc:146] Reading SavedModel debug info (if present) from: /tmp/tmp_qq7amn1\n",
            "2024-07-08 12:27:49.452978: I tensorflow/cc/saved_model/loader.cc:233] Restoring SavedModel bundle.\n",
            "2024-07-08 12:27:49.474063: I tensorflow/cc/saved_model/loader.cc:217] Running initialization op on SavedModel bundle at path: /tmp/tmp_qq7amn1\n",
            "2024-07-08 12:27:49.482664: I tensorflow/cc/saved_model/loader.cc:316] SavedModel load for tags { serve }; Status: success: OK. Took 32044 microseconds.\n",
            "Summary on the non-converted ops:\n",
            "---------------------------------\n",
            " * Accepted dialects: tfl, builtin, func\n",
            " * Non-Converted Ops: 6, Total Ops 13, % non-converted = 46.15 %\n",
            " * 6 ARITH ops\n",
            "\n",
            "- arith.constant:    6 occurrences  (f32: 6)\n",
            "\n",
            "\n",
            "\n",
            "  (f32: 3)\n",
            "  (f32: 1)\n"
          ]
        }
      ],
      "source": [
        "# Convert the model to the TensorFlow Lite format without quantization\n",
        "converter = tf.lite.TFLiteConverter.from_keras_model(model)\n",
        "tflite_model = converter.convert()\n",
        "\n",
        "# Save the model to disk\n",
        "open(\"gesture_model.tflite\", \"wb\").write(tflite_model)\n",
        "\n",
        "import os\n",
        "basic_model_size = os.path.getsize(\"gesture_model.tflite\")\n",
        "print(\"Model is %d bytes\" % basic_model_size)\n"
      ]
    },
    {
      "cell_type": "markdown",
      "metadata": {},
      "source": [
        "The next cell converts the model to TFlite format using 8-bit quantization.\n"
      ]
    },
    {
      "cell_type": "code",
      "execution_count": 34,
      "metadata": {},
      "outputs": [
        {
          "name": "stdout",
          "output_type": "stream",
          "text": [
            "INFO:tensorflow:Assets written to: /tmp/tmpreaj3ym1/assets\n"
          ]
        },
        {
          "name": "stderr",
          "output_type": "stream",
          "text": [
            "INFO:tensorflow:Assets written to: /tmp/tmpreaj3ym1/assets\n",
            "/home/han/anaconda3/envs/datasci2/lib/python3.10/site-packages/tensorflow/lite/python/convert.py:953: UserWarning: Statistics for quantized inputs were expected, but not specified; continuing anyway.\n",
            "  warnings.warn(\n",
            "2024-07-08 12:30:30.430980: W tensorflow/compiler/mlir/lite/python/tf_tfl_flatbuffer_helpers.cc:378] Ignored output_format.\n",
            "2024-07-08 12:30:30.431021: W tensorflow/compiler/mlir/lite/python/tf_tfl_flatbuffer_helpers.cc:381] Ignored drop_control_dependency.\n",
            "2024-07-08 12:30:30.431164: I tensorflow/cc/saved_model/reader.cc:83] Reading SavedModel from: /tmp/tmpreaj3ym1\n",
            "2024-07-08 12:30:30.431667: I tensorflow/cc/saved_model/reader.cc:51] Reading meta graph with tags { serve }\n",
            "2024-07-08 12:30:30.431674: I tensorflow/cc/saved_model/reader.cc:146] Reading SavedModel debug info (if present) from: /tmp/tmpreaj3ym1\n",
            "2024-07-08 12:30:30.432918: I tensorflow/cc/saved_model/loader.cc:233] Restoring SavedModel bundle.\n",
            "2024-07-08 12:30:30.450373: I tensorflow/cc/saved_model/loader.cc:217] Running initialization op on SavedModel bundle at path: /tmp/tmpreaj3ym1\n",
            "2024-07-08 12:30:30.456886: I tensorflow/cc/saved_model/loader.cc:316] SavedModel load for tags { serve }; Status: success: OK. Took 25721 microseconds.\n",
            "Summary on the non-converted ops:\n",
            "---------------------------------\n",
            " * Accepted dialects: tfl, builtin, func\n",
            " * Non-Converted Ops: 6, Total Ops 13, % non-converted = 46.15 %\n",
            " * 6 ARITH ops\n",
            "\n",
            "- arith.constant:    6 occurrences  (f32: 6)\n",
            "\n",
            "\n",
            "\n",
            "  (f32: 3)\n",
            "  (f32: 1)\n",
            "fully_quantize: 0, inference_type: 6, input_inference_type: FLOAT32, output_inference_type: UINT8\n"
          ]
        },
        {
          "data": {
            "text/plain": [
              "3032"
            ]
          },
          "execution_count": 34,
          "metadata": {},
          "output_type": "execute_result"
        }
      ],
      "source": [
        "\n",
        "# 8 bit quantization\n",
        "def representative_dataset():\n",
        "  for input_value in tf.data.Dataset.from_tensor_slices(inputs_test).batch(1).take(100):\n",
        "    yield [input_value]\n",
        "    \n",
        "inputs_test = inputs_test.astype(np.float32)\n",
        "\n",
        "converter = tf.lite.TFLiteConverter.from_keras_model(model)\n",
        "converter.optimizations = [tf.lite.Optimize.DEFAULT]\n",
        "converter.representative_dataset = representative_dataset\n",
        "# Ensure that if any ops can't be quantized, the converter throws an error\n",
        "converter.target_spec.supported_ops = [tf.lite.OpsSet.TFLITE_BUILTINS_INT8,tf.lite.OpsSet.TFLITE_BUILTINS]\n",
        "# Set the input and output tensors to uint8 (APIs added in r2.3)\n",
        "converter.inference_input_type = tf.float32\n",
        "converter.inference_output_type = tf.uint8\n",
        "\n",
        "\n",
        "tflite_model_int_quant = converter.convert()\n",
        "\n",
        "# Save the model to disk\n",
        "open(\"gesture_model_int_quant.tflite\", \"wb\").write(tflite_model_int_quant)\n"
      ]
    },
    {
      "cell_type": "code",
      "execution_count": 35,
      "metadata": {},
      "outputs": [
        {
          "name": "stdout",
          "output_type": "stream",
          "text": [
            "Model tflite is 2528 bytes\n",
            "Model tflite int quant is 3032 bytes\n"
          ]
        }
      ],
      "source": [
        "\n",
        "import os\n",
        "# basic_model_size = os.path.getsize(\"gesture_model.tflite\")\n",
        "print(\"Model tflite is %d bytes\" % os.path.getsize(\"gesture_model.tflite\"))\n",
        "\n",
        "print(\"Model tflite int quant is %d bytes\" % os.path.getsize(\"gesture_model_int_quant.tflite\"))\n",
        "\n"
      ]
    },
    {
      "cell_type": "markdown",
      "metadata": {},
      "source": [
        "Model analysis\n"
      ]
    },
    {
      "cell_type": "code",
      "execution_count": 36,
      "metadata": {},
      "outputs": [],
      "source": [
        "# def print_model_details(model_path):\n",
        "#     interpreter = tf.lite.Interpreter(model_path=model_path)\n",
        "#     interpreter.allocate_tensors()\n",
        "#     input_details = interpreter.get_input_details()\n",
        "#     output_details = interpreter.get_output_details()\n",
        "#     tensor_details = interpreter.get_tensor_details()\n",
        "#     print(f\"Model: {model_path}\")\n",
        "#     print(f\"\\tInputs: {input_details}\")\n",
        "#     print(f\"\\tOutputs: {output_details}\")\n",
        "#     print(f\"\\tTensors: {tensor_details}\")\n",
        "\n",
        "# print_model_details(\"gesture_model.tflite\")\n",
        "# print_model_details(\"gesture_model_int_quant.tflite\")\n",
        "\n",
        "# def compare_models(model_path1, model_path2):\n",
        "#     interpreter1 = tf.lite.Interpreter(model_path=model_path1)\n",
        "#     interpreter2 = tf.lite.Interpreter(model_path=model_path2)\n",
        "    \n",
        "#     interpreter1.allocate_tensors()\n",
        "#     interpreter2.allocate_tensors()\n",
        "    \n",
        "#     tensor_details1 = interpreter1.get_tensor_details()\n",
        "#     tensor_details2 = interpreter2.get_tensor_details()\n",
        "    \n",
        "#     print(f\"Number of tensors in {model_path1}: {len(tensor_details1)}\")\n",
        "#     print(f\"Number of tensors in {model_path2}: {len(tensor_details2)}\")\n",
        "    \n",
        "#     ops1 = interpreter1.get_tensor_details()\n",
        "#     ops2 = interpreter2.get_tensor_details()\n",
        "    \n",
        "#     print(f\"Number of operations in {model_path1}: {len(ops1)}\")\n",
        "#     print(f\"Number of operations in {model_path2}: {len(ops2)}\")\n",
        "\n",
        "# compare_models(\"gesture_model.tflite\", \"gesture_model_int_quant.tflite\")\n",
        "\n",
        "\n",
        "# import tensorflow as tf\n",
        "\n",
        "# def analyze_model(model_path):\n",
        "#     interpreter = tf.lite.Interpreter(model_path=model_path)\n",
        "#     interpreter.allocate_tensors()\n",
        "    \n",
        "#     input_details = interpreter.get_input_details()\n",
        "#     output_details = interpreter.get_output_details()\n",
        "#     tensor_details = interpreter.get_tensor_details()\n",
        "\n",
        "#     print(f\"Model: {model_path}\")\n",
        "#     print(f\"\\tNumber of Inputs: {len(input_details)}\")\n",
        "#     print(f\"\\tNumber of Outputs: {len(output_details)}\")\n",
        "#     print(f\"\\tNumber of Tensors: {len(tensor_details)}\")\n",
        "\n",
        "#     for tensor in tensor_details:\n",
        "#         print(f\"\\tTensor Name: {tensor['name']}, Shape: {tensor['shape']}, Type: {tensor['dtype']}\")\n",
        "\n",
        "# analyze_model(\"gesture_model.tflite\")\n",
        "# analyze_model(\"gesture_model_int_quant.tflite\")\n",
        "\n",
        "\n",
        "# import tensorflow as tf\n",
        "\n",
        "# def print_tensor_details(model_path):\n",
        "#     interpreter = tf.lite.Interpreter(model_path=model_path)\n",
        "#     interpreter.allocate_tensors()\n",
        "#     tensor_details = interpreter.get_tensor_details()\n",
        "#     print(\"#########print_tensor_details#########\")\n",
        "#     print(f\"Model: {model_path}\")\n",
        "#     for tensor in tensor_details:\n",
        "#         print(f\"Tensor Name: {tensor['name']}\")\n",
        "#         print(f\"  Index: {tensor['index']}\")\n",
        "#         print(f\"  Shape: {tensor['shape']}\")\n",
        "#         print(f\"  Type: {tensor['dtype']}\")\n",
        "#         print(f\"  Quantization: {tensor['quantization']}\")\n",
        "#         print(f\"  Quantization Parameters: {tensor['quantization_parameters']}\")\n",
        "#         print(f\"  Sparsity Parameters: {tensor['sparsity_parameters']}\")\n",
        "\n",
        "# print_tensor_details(\"gesture_model.tflite\")\n",
        "# print_tensor_details(\"gesture_model_int_quant.tflite\")\n"
      ]
    },
    {
      "cell_type": "code",
      "execution_count": 37,
      "metadata": {},
      "outputs": [
        {
          "name": "stdout",
          "output_type": "stream",
          "text": [
            "Model tflite is 2528 bytes\n",
            "Model tflite int quant is 3032 bytes\n"
          ]
        }
      ],
      "source": [
        "\n",
        "import os\n",
        "# basic_model_size = os.path.getsize(\"gesture_model.tflite\")\n",
        "print(\"Model tflite is %d bytes\" % os.path.getsize(\"gesture_model.tflite\"))\n",
        "\n",
        "print(\"Model tflite int quant is %d bytes\" % os.path.getsize(\"gesture_model_int_quant.tflite\"))\n",
        "\n"
      ]
    },
    {
      "cell_type": "code",
      "execution_count": 38,
      "metadata": {},
      "outputs": [
        {
          "name": "stdout",
          "output_type": "stream",
          "text": [
            "Tflite model: Average inference time over 51 runs: 0.000019 seconds\n",
            "Classification report for Tflite model\n",
            "              precision    recall  f1-score   support\n",
            "\n",
            "           0       1.00      1.00      1.00        11\n",
            "           1       1.00      1.00      1.00        17\n",
            "           2       1.00      1.00      1.00        23\n",
            "\n",
            "    accuracy                           1.00        51\n",
            "   macro avg       1.00      1.00      1.00        51\n",
            "weighted avg       1.00      1.00      1.00        51\n",
            "\n",
            "8-bit quatizaed tflite model: Average inference time over 51 runs: 0.000007 seconds\n",
            "Classification report for 8-bit quatizaed tflite model\n",
            "              precision    recall  f1-score   support\n",
            "\n",
            "           0       1.00      1.00      1.00        11\n",
            "           1       1.00      1.00      1.00        17\n",
            "           2       1.00      1.00      1.00        23\n",
            "\n",
            "    accuracy                           1.00        51\n",
            "   macro avg       1.00      1.00      1.00        51\n",
            "weighted avg       1.00      1.00      1.00        51\n",
            "\n"
          ]
        }
      ],
      "source": [
        "import time\n",
        "\n",
        "model_names=[\"Tflite model\",\"8-bit quatizaed tflite model\"]\n",
        "models=[tflite_model, tflite_model_int_quant]\n",
        "for j, model in enumerate(models):\n",
        "  \n",
        "  interpreter = tf.lite.Interpreter(model_content=model)\n",
        "\n",
        "  interpreter.allocate_tensors()\n",
        "  # DTYPE=np.float32\n",
        "  # DTYPE=np.uint8\n",
        "  if str(interpreter.get_input_details()[0]['dtype']).split(\"'\")[1] == 'numpy.float32':\n",
        "    DTYPE=np.float32\n",
        "  else:\n",
        "    DTYPE=np.float32\n",
        "\n",
        "  input_details = interpreter.get_input_details()\n",
        "  output_details = interpreter.get_output_details()\n",
        "\n",
        "  input_index = input_details[0]['index']\n",
        "  output_index = output_details[0]['index']\n",
        "  y_pred_tflite = []\n",
        "  \n",
        "  num_inferences = 0\n",
        "  total_time = 0.0\n",
        "\n",
        "  for i in range(len(inputs_test)):\n",
        "    start_time = time.time()\n",
        "    input_data = np.expand_dims(inputs_test[i], axis=0).astype(DTYPE)\n",
        "    interpreter.set_tensor(input_index, input_data)\n",
        "    interpreter.invoke()\n",
        "    output_data = interpreter.get_tensor(output_index)\n",
        "    y_pred_tflite.append(np.argmax(output_data))\n",
        "\n",
        "    end_time = time.time()\n",
        "    inference_time = end_time - start_time\n",
        "    total_time += inference_time\n",
        "    num_inferences+=1\n",
        "    \n",
        "  \n",
        "  average_inference_time = total_time / num_inferences\n",
        "  print(f\"{model_names[j]}: Average inference time over {num_inferences} runs: {average_inference_time:.6f} seconds\")\n",
        "  \n",
        "  y_true = np.argmax(outputs_test, axis=1)\n",
        "  conf_matrix = confusion_matrix(y_true, y_pred_tflite)\n",
        "\n",
        "  # # Plot confusion matrix\n",
        "  # sns.heatmap(conf_matrix, annot=True, fmt=\"d\")\n",
        "  # plt.xlabel('Predicted')\n",
        "  # plt.ylabel('Actual')\n",
        "  # plt.show()\n",
        "\n",
        "  # Classification report\n",
        "  print(f\"Classification report for {model_names[j]}\")\n",
        "  print(classification_report(y_true, y_pred_tflite))\n",
        "  \n",
        "  \"\"\"Classification report for 8-bit quatizaed tflite model: 8bit in, 8bit out\n",
        "              precision    recall  f1-score   support\n",
        "\n",
        "           0       0.00      0.00      0.00        11\n",
        "           1       0.00      0.00      0.00        17\n",
        "           2       0.45      1.00      0.62        23\n",
        "\n",
        "    accuracy                           0.45        51\n",
        "   macro avg       0.15      0.33      0.21        51\n",
        "weighted avg       0.20      0.45      0.28        51\n",
        "\n",
        "float in, 8bit out\n",
        "8-bit quatizaed tflite model: Average inference time over 51 runs: 0.000007 seconds\n",
        "Classification report for 8-bit quatizaed tflite model\n",
        "              precision    recall  f1-score   support\n",
        "\n",
        "           0       1.00      1.00      1.00        11\n",
        "           1       1.00      1.00      1.00        17\n",
        "           2       1.00      1.00      1.00        23\n",
        "\n",
        "    accuracy                           1.00        51\n",
        "   macro avg       1.00      1.00      1.00        51\n",
        "weighted avg       1.00      1.00      1.00        51\n",
        "\"\"\"\n"
      ]
    },
    {
      "cell_type": "markdown",
      "metadata": {
        "colab_type": "text",
        "id": "ykccQn7SXrUX"
      },
      "source": [
        "## Encode the Model in an Arduino Header File\n",
        "\n",
        "The next cell creates a constant byte array that contains the TFlite model. Import it as a tab with the sketch below.\n"
      ]
    },
    {
      "cell_type": "code",
      "execution_count": 39,
      "metadata": {
        "colab": {},
        "colab_type": "code",
        "id": "9J33uwpNtAku"
      },
      "outputs": [
        {
          "name": "stdout",
          "output_type": "stream",
          "text": [
            "Header file, model.h, is 15,624 bytes.\n",
            "\n",
            "Open the side panel (refresh if needed). Double click model.h to download the file.\n"
          ]
        }
      ],
      "source": [
        "!echo \"const unsigned char model[] = {\" > ./model.h\n",
        "!cat gesture_model.tflite | xxd -i      >> ./model.h\n",
        "!echo \"};\"                              >> ./model.h\n",
        "\n",
        "import os\n",
        "model_h_size = os.path.getsize(\"model.h\")\n",
        "print(f\"Header file, model.h, is {model_h_size:,} bytes.\")\n",
        "print(\"\\nOpen the side panel (refresh if needed). Double click model.h to download the file.\")"
      ]
    },
    {
      "cell_type": "markdown",
      "metadata": {
        "colab_type": "text",
        "id": "1eSkHZaLzMId"
      },
      "source": [
        "# Realtime Classification of Sensor Data on Arduino\n",
        "\n",
        "Now it's time to switch back to the tutorial instructions and run our new model on the [Arduino Nano 33 BLE Sense](https://www.arduino.cc/en/Guide/NANO33BLE)\n"
      ]
    }
  ],
  "metadata": {
    "colab": {
      "collapsed_sections": [],
      "name": "FruitToEmoji-GIT.ipynb",
      "provenance": [],
      "toc_visible": true
    },
    "kernelspec": {
      "display_name": "Python 3",
      "name": "python3"
    },
    "language_info": {
      "codemirror_mode": {
        "name": "ipython",
        "version": 3
      },
      "file_extension": ".py",
      "mimetype": "text/x-python",
      "name": "python",
      "nbconvert_exporter": "python",
      "pygments_lexer": "ipython3",
      "version": "3.10.12"
    }
  },
  "nbformat": 4,
  "nbformat_minor": 0
}
